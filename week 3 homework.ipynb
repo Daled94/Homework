{
 "cells": [
  {
   "cell_type": "markdown",
   "metadata": {},
   "source": [
    "## An Algorithm is a series of steps to solve a problem at hand\n",
    "2. ## An _ or a dollar sign $\n",
    "3. ## code is grammatically correct but doesn't make any sense; it does not produce the expected results\n",
    "4. ## Complexity is the enemy of efficiency\n",
    "5. ## False, True, None, and, finally"
   ]
  },
  {
   "cell_type": "code",
   "execution_count": 28,
   "metadata": {},
   "outputs": [
    {
     "name": "stdout",
     "output_type": "stream",
     "text": [
      "ing \n",
      " and\n",
      "Learning Data Analytics and Python is great!\n",
      "True\n",
      "Hi my name is Dale, I am 5'8\" tall and I am 28 years old today.\n",
      "age_float: 28.0\n"
     ]
    }
   ],
   "source": [
    "# Name: Dale Duncan\n",
    "# Favorite Food: Pizza and mashed potatoes\n",
    "# Dream Job: Anaylist/Developer\n",
    "\n",
    "text = \"Hello Everyone!\"\n",
    "Favorite_foods = [\"pizza\", \"mashed potatoes\"]\n",
    "Food_types = [\"italian\", \"american\"]\n",
    "Favorite_foods = True\n",
    "Food_number = (2) \n",
    "\n",
    "Savvy = \"Learning Data Analytics and Python is Awesome!\"\n",
    "print(Savvy[5:9])\n",
    "print(Savvy[23:27])\n",
    "modified_savvy = Savvy.replace (\"Awesome\", \"great\")\n",
    "print(modified_savvy)\n",
    "Python = True\n",
    "print(Python)\n",
    "\n",
    "name = \"Dale\"\n",
    "age = 28\n",
    "Length = \"5'8\\\"\"\n",
    "\n",
    "miniBio = f\"Hi my name is {name}, I am {Length} tall and I am {age} years old today.\"\n",
    "print(miniBio)\n",
    "\n",
    "age_float = float(age)\n",
    "print(\"age_float:\", age_float)\n",
    " "
   ]
  },
  {
   "cell_type": "code",
   "execution_count": 55,
   "metadata": {},
   "outputs": [
    {
     "name": "stdout",
     "output_type": "stream",
     "text": [
      "('pizza', 'pasta', 'spinach', 'chicken', 'beef , Fish', 'tomato', 'potato')\n",
      "('spinach', 'chicken', 'beef , Fish')\n",
      "('pizza', 'pasta', 'spinach', 'chicken', 'beef , Fish', 'tomato', 'potato', 'burger', 'hotdog')\n",
      "[100, 200, 300, 400, 500]\n",
      "[100, 200, 300, 400, 500]\n"
     ]
    }
   ],
   "source": [
    "Foods = (\"pizza\" , \"pasta\" , \"lettuce\" , \"tomato\" , \"potato\" )\n",
    "foods_list =list(Foods)\n",
    "index = foods_list.index(\"lettuce\")\n",
    "foods_list[index] = \"spinach\"\n",
    "Foods = tuple(foods_list)\n",
    "additonal_foods = (\"chicken\" , \"beef , Fish\")\n",
    "foods_list = list(Foods)\n",
    "insert_index = 2\n",
    "foods_list[insert_index+1:insert_index+1] = additonal_foods\n",
    "Foods = tuple(foods_list)\n",
    "print(Foods)\n",
    "second_list =Foods[2:5]\n",
    "print(second_list)\n",
    "additonal_foods = (\"burger\" , \"hotdog\")\n",
    "Foods += additonal_foods\n",
    "print(Foods)\n",
    "\n",
    "simList = [100, 200, 300, 400, 500]\n",
    "simList.sort()\n",
    "print(simList)\n",
    "third_list =list(simList)\n",
    "print(third_list)\n",
    "fourth_list = foods_list + third_list\n",
    "print = fourth_list "
   ]
  },
  {
   "cell_type": "code",
   "execution_count": 9,
   "metadata": {},
   "outputs": [
    {
     "name": "stdout",
     "output_type": "stream",
     "text": [
      "(5, 10, 15, 20, 25, 5, 10, 15, 20, 25, 5, 10, 15, 20, 25)\n",
      "10\n",
      "(5, 5, 5, 10, 10, 10, 15, 15, 15, 20, 20, 20, 25, 25, 25)\n",
      "(15, 5, 20, 10)\n",
      "variable1: 15\n",
      "variable2: 5\n",
      "variable3: 20\n",
      "variable4: 10\n",
      "(50,)\n",
      "(15, 5, 20, 10, 50)\n"
     ]
    }
   ],
   "source": [
    "first_tuple = (5, 10, 15, 20, 25)\n",
    "new_tuple = first_tuple *3\n",
    "print(new_tuple)\n",
    "twelfth_element = new_tuple[11]\n",
    "print(twelfth_element)\n",
    "sorted_tuple = tuple(sorted(new_tuple))\n",
    "print(sorted_tuple)\n",
    "specific_elements_tuple = new_tuple[2], new_tuple[5], new_tuple[8], new_tuple[11]\n",
    "print(specific_elements_tuple)\n",
    "variable1, variable2, variable3, variable4 = specific_elements_tuple\n",
    "print(\"variable1:\", variable1)\n",
    "print(\"variable2:\", variable2)\n",
    "print(\"variable3:\", variable3)\n",
    "print(\"variable4:\", variable4)\n",
    "fourth_tuple = (50,)\n",
    "print(fourth_tuple)\n",
    "fifth_tuple = specific_elements_tuple + fourth_tuple\n",
    "print(fifth_tuple)\n"
   ]
  },
  {
   "cell_type": "code",
   "execution_count": 21,
   "metadata": {},
   "outputs": [
    {
     "name": "stdout",
     "output_type": "stream",
     "text": [
      "{'oranges', 40, 50, 30, 'grapes', 'apples'}\n",
      "video games\n",
      "set()\n",
      "{'Toyota', 40, 50, 'music', 30, 'oranges', 'video games', 'apples'}\n"
     ]
    }
   ],
   "source": [
    "my_set = {30, 40, 50}\n",
    "fruits_list = \"grapes\", \"apples\" , \"oranges\"\n",
    "my_set.update(fruits_list)  \n",
    "print(my_set)\n",
    "my_set.add('Toyota')\n",
    "second_set = {\"video games\", \"movies\", \"music\"}\n",
    "third_set = my_set.union(second_set)\n",
    "popped_element = second_set.pop()   \n",
    "print(popped_element)\n",
    "my_set.clear()\n",
    "print(my_set)\n",
    "third_set.discard('movies')\n",
    "third_set.remove(\"grapes\")\n",
    "print(third_set)\n"
   ]
  },
  {
   "cell_type": "code",
   "execution_count": 37,
   "metadata": {},
   "outputs": [
    {
     "name": "stdout",
     "output_type": "stream",
     "text": [
      "Dale\n",
      "Dale \n",
      "dict_keys(['name', 'age', 'is_student', 'fav_foods', 'fav_game', 'favorite_color', 'fav_states'])\n",
      "dict_values(['Dale', 28, True, ['pizza', 'burgers', 'potatoes'], 'Dale ', 'Green', 'Missouri, Florida, Texas'])\n",
      "{}\n"
     ]
    }
   ],
   "source": [
    "my_dictionary = {\n",
    "    \"name\": \"Dale\" ,\n",
    "    \"age\": 28,\n",
    "    \"is_student\": True,\n",
    "    \"fav_foods\": [\"pizza\", \"burgers\", \"potatoes\"],\n",
    "    \"fav_game\": \"League of Legends\"\n",
    "\n",
    "}\n",
    "print(my_dictionary[\"name\"])\n",
    "my_dictionary[\"fav_game\"] = \"Dale \"\n",
    "print(my_dictionary[\"fav_game\"])\n",
    "my_dictionary[\"favorite_color\"] = \"Green\"\n",
    "my_dictionary[\"fav_states\"] = \"Missouri, Florida, Texas\"\n",
    "keys_list = my_dictionary.keys()\n",
    "print(keys_list)\n",
    "values_list = my_dictionary.values()\n",
    "print(values_list)\n",
    "second_dictionary = my_dictionary.copy()\n",
    "popped_value = second_dictionary.pop(\"fav_states\")\n",
    "second_dictionary.clear()\n",
    "print(second_dictionary)\n",
    "\n"
   ]
  },
  {
   "cell_type": "code",
   "execution_count": null,
   "metadata": {},
   "outputs": [],
   "source": []
  }
 ],
 "metadata": {
  "kernelspec": {
   "display_name": "Python 3",
   "language": "python",
   "name": "python3"
  },
  "language_info": {
   "codemirror_mode": {
    "name": "ipython",
    "version": 3
   },
   "file_extension": ".py",
   "mimetype": "text/x-python",
   "name": "python",
   "nbconvert_exporter": "python",
   "pygments_lexer": "ipython3",
   "version": "3.11.4"
  },
  "orig_nbformat": 4
 },
 "nbformat": 4,
 "nbformat_minor": 2
}
