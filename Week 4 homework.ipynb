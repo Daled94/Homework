{
 "cells": [
  {
   "cell_type": "markdown",
   "metadata": {},
   "source": [
    "## 1. To simplify the process and make it more effective, developers leverage _modular programming_ – a method of breaking large coding tasks into smaller, more manageable subtasks or bytes.\n",
    "\n",
    "## 2. A module we looked at was a random module, a example of this code is."
   ]
  },
  {
   "cell_type": "code",
   "execution_count": 1,
   "metadata": {},
   "outputs": [
    {
     "name": "stdout",
     "output_type": "stream",
     "text": [
      "Random number: 9\n"
     ]
    }
   ],
   "source": [
    "import random\n",
    "\n",
    "random_number = random.randint(1, 100)\n",
    "print(\"Random number:\", random_number)"
   ]
  },
  {
   "cell_type": "markdown",
   "metadata": {},
   "source": [
    "### 3. Exception handiling is important because you can test errors and make sure your code is running properly. It also allows you to run code even if there are errors.\n",
    "\n",
    "### 4. try, except, else, finally\n",
    "\n",
    "### 5. NumPy arrays are like lists but they can only contain one type of data.\n",
    "\n",
    "### 6.  NumPy arrays occupy less space than lists, are faster than lists, and more convenient to use.\n",
    "\n",
    "### 7. dtypes change the type of data in an array. one main requirement of dtype is that all the elements in the array must be of the same type.\n",
    "\n",
    "### 8. numpy can also be used as an efficient multi-dimensional container of generic data. Arbitrary data-types can be defined. This allows numpy to seamlessly and speedily integrate with a wide variety of databases.\n",
    "### numpy can also be used to braodcast functions to arrays.\n",
    "\n",
    "9. ### \n",
    "\n"
   ]
  }
 ],
 "metadata": {
  "kernelspec": {
   "display_name": "Python 3",
   "language": "python",
   "name": "python3"
  },
  "language_info": {
   "codemirror_mode": {
    "name": "ipython",
    "version": 3
   },
   "file_extension": ".py",
   "mimetype": "text/x-python",
   "name": "python",
   "nbconvert_exporter": "python",
   "pygments_lexer": "ipython3",
   "version": "3.11.4"
  },
  "orig_nbformat": 4
 },
 "nbformat": 4,
 "nbformat_minor": 2
}
